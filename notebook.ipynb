{
 "cells": [
  {
   "cell_type": "markdown",
   "metadata": {},
   "source": [
    "# Assignment Analyser\n",
    "using tensorflow and opencv \n",
    "\n",
    "(@kamaravichow)"
   ]
  },
  {
   "cell_type": "markdown",
   "metadata": {},
   "source": [
    "## Preparing data\n",
    "\n",
    "As official mnist datasets doesn't have operations like \"+\", \"=\", we need to generate our own dataset. For that we'll use the fonts on our computer that is used to make the questions of the assignment\n"
   ]
  },
  {
   "cell_type": "code",
   "execution_count": 1,
   "metadata": {},
   "outputs": [],
   "source": [
    "# coding=utf-8"
   ]
  },
  {
   "cell_type": "code",
   "execution_count": 2,
   "metadata": {},
   "outputs": [],
   "source": [
    "from __future__ import print_function\n",
    "from PIL import Image, ImageFont, ImageDraw\n",
    "import os\n",
    "import shutil\n",
    "import time"
   ]
  },
  {
   "cell_type": "code",
   "execution_count": 3,
   "metadata": {},
   "outputs": [],
   "source": [
    "lable_dict = {0: '0', 1:'1', 2: '2', 3: '3', 4: '4', 5: '5', 6: '6', 7: '7', 8:'8', 9:'9', 10:'=', 11:'+', 12:'-', 13:'×', 14: '÷'}"
   ]
  },
  {
   "cell_type": "code",
   "execution_count": 4,
   "metadata": {},
   "outputs": [
    {
     "name": "stdout",
     "output_type": "stream",
     "text": [
      "0 0\n",
      "1 1\n",
      "2 2\n",
      "3 3\n",
      "4 4\n",
      "5 5\n",
      "6 6\n",
      "7 7\n",
      "8 8\n",
      "9 9\n",
      "10 =\n",
      "11 +\n",
      "12 -\n",
      "13 ×\n",
      "14 ÷\n"
     ]
    }
   ],
   "source": [
    "for value,char in lable_dict.items():\n",
    "    print(value,char)\n",
    "    train_images_dir = './train_images/' + str(value)\n",
    "    if os.path.isdir(train_images_dir):\n",
    "        shutil.rmtree(train_images_dir)\n",
    "    os.makedirs(train_images_dir)"
   ]
  },
  {
   "cell_type": "code",
   "execution_count": 5,
   "metadata": {},
   "outputs": [],
   "source": [
    "def generate_image(lable_dict, font_path, w=24, h=24, rotation =0):\n",
    "\n",
    "    for value,char in lable_dict.items():\n",
    "        img = Image.new('RGB', (w, h), \"black\")\n",
    "        draw = ImageDraw.Draw(img)\n",
    "\n",
    "        font = ImageFont.truetype(font_path, int(w * 0.9))\n",
    "        font_width, font_height = draw.textsize(char, font)\n",
    "\n",
    "        x = (w - font_width - font.getoffset(char)[0]) / 2\n",
    "        y = (h - font_height - font.getoffset(char)[1]) / 2\n",
    "\n",
    "        draw.text((x, y), char, (255,255,255), font)\n",
    "\n",
    "        img = img.rotate(rotation)\n",
    "\n",
    "        time_value = int(round(time.time() * 1000))\n",
    "        img_path = \"./train_images/{}/img-{}_r-{}_{}.png\".format(value, value, rotation, time_value)\n",
    "        img.save(img_path)\n"
   ]
  },
  {
   "cell_type": "code",
   "execution_count": 8,
   "metadata": {},
   "outputs": [],
   "source": [
    "font_dir = 'F:/Desktop/homework-analyser-python/generator/fonts'\n",
    "\n",
    "for font_name in os.listdir(font_dir):\n",
    "    path_of_font = os.path.join(font_dir, font_name)\n",
    "    \n",
    "    for k in range(-10,10,1):\n",
    "        generate_image(lable_dict, path_of_font, rotation=k)"
   ]
  },
  {
   "cell_type": "markdown",
   "metadata": {},
   "source": [
    "The above will generate the dataset from font files to ./train_images"
   ]
  },
  {
   "cell_type": "markdown",
   "metadata": {},
   "source": [
    "## Building the model"
   ]
  },
  {
   "cell_type": "code",
   "execution_count": 9,
   "metadata": {},
   "outputs": [],
   "source": [
    "import tensorflow as tf\n",
    "import numpy as np\n",
    "from tensorflow.keras import layers\n",
    "from tensorflow.keras.models import Sequential\n",
    "import pathlib\n",
    "import cv2"
   ]
  },
  {
   "cell_type": "code",
   "execution_count": 10,
   "metadata": {},
   "outputs": [],
   "source": [
    "def create_model():\n",
    "    model = Sequential([\n",
    "        layers.experimental.preprocessing.Rescaling(1./255, input_shape=(24,24,1)),\n",
    "        layers.Conv2D(24,3,activation='relu'),\n",
    "        layers.MaxPooling2D((2,2)),\n",
    "        layers.Conv2D(64,3, activation='relu'),\n",
    "        layers.MaxPooling2D((2,2)),\n",
    "        layers.Flatten(),\n",
    "        layers.Dense(128, activation='relu'),\n",
    "        layers.Dense(15)\n",
    "    ])\n",
    "\n",
    "    model.compile(optimizer='adam', loss=tf.keras.losses.SparseCategoricalCrossentropy(from_logits=True), metrics=['accuracy'])\n",
    "\n",
    "    return model\n",
    "\n",
    "\n",
    "model = create_model()"
   ]
  },
  {
   "cell_type": "code",
   "execution_count": 11,
   "metadata": {},
   "outputs": [
    {
     "name": "stdout",
     "output_type": "stream",
     "text": [
      "Model: \"sequential\"\n",
      "_________________________________________________________________\n",
      "Layer (type)                 Output Shape              Param #   \n",
      "=================================================================\n",
      "rescaling (Rescaling)        (None, 24, 24, 1)         0         \n",
      "_________________________________________________________________\n",
      "conv2d (Conv2D)              (None, 22, 22, 24)        240       \n",
      "_________________________________________________________________\n",
      "max_pooling2d (MaxPooling2D) (None, 11, 11, 24)        0         \n",
      "_________________________________________________________________\n",
      "conv2d_1 (Conv2D)            (None, 9, 9, 64)          13888     \n",
      "_________________________________________________________________\n",
      "max_pooling2d_1 (MaxPooling2 (None, 4, 4, 64)          0         \n",
      "_________________________________________________________________\n",
      "flatten (Flatten)            (None, 1024)              0         \n",
      "_________________________________________________________________\n",
      "dense (Dense)                (None, 128)               131200    \n",
      "_________________________________________________________________\n",
      "dense_1 (Dense)              (None, 15)                1935      \n",
      "=================================================================\n",
      "Total params: 147,263\n",
      "Trainable params: 147,263\n",
      "Non-trainable params: 0\n",
      "_________________________________________________________________\n"
     ]
    }
   ],
   "source": [
    "model.summary()"
   ]
  },
  {
   "cell_type": "markdown",
   "metadata": {},
   "source": [
    "### Training the model on dataset"
   ]
  },
  {
   "cell_type": "code",
   "execution_count": 12,
   "metadata": {},
   "outputs": [
    {
     "name": "stdout",
     "output_type": "stream",
     "text": [
      "train_images\n",
      "Found 600 files belonging to 15 classes.\n"
     ]
    }
   ],
   "source": [
    "dataset_dir = pathlib.Path('F:/Desktop/homework-analyser-python/generator/train_images')\n",
    "print(dataset_dir.name)\n",
    "\n",
    "train_ds = tf.keras.preprocessing.image_dataset_from_directory(\n",
    "    dataset_dir,\n",
    "    color_mode=\"grayscale\",\n",
    "    image_size=(24,24),\n",
    "    batch_size=32\n",
    ")"
   ]
  },
  {
   "cell_type": "code",
   "execution_count": 13,
   "metadata": {},
   "outputs": [],
   "source": [
    "class_names = train_ds.class_names\n",
    "\n",
    "np.save(\"class_name.npy\", class_names)"
   ]
  },
  {
   "cell_type": "code",
   "execution_count": 14,
   "metadata": {},
   "outputs": [
    {
     "name": "stdout",
     "output_type": "stream",
     "text": [
      "Epoch 1/10\n",
      "19/19 [==============================] - 1s 13ms/step - loss: 2.2733 - accuracy: 0.4017\n",
      "Epoch 2/10\n",
      "19/19 [==============================] - 0s 14ms/step - loss: 0.8380 - accuracy: 0.8917\n",
      "Epoch 3/10\n",
      "19/19 [==============================] - 0s 14ms/step - loss: 0.1610 - accuracy: 0.9717\n",
      "Epoch 4/10\n",
      "19/19 [==============================] - 0s 12ms/step - loss: 0.0498 - accuracy: 0.9950\n",
      "Epoch 5/10\n",
      "19/19 [==============================] - 0s 10ms/step - loss: 0.0193 - accuracy: 1.0000\n",
      "Epoch 6/10\n",
      "19/19 [==============================] - 0s 10ms/step - loss: 0.0098 - accuracy: 1.0000\n",
      "Epoch 7/10\n",
      "19/19 [==============================] - 0s 9ms/step - loss: 0.0060 - accuracy: 1.0000\n",
      "Epoch 8/10\n",
      "19/19 [==============================] - ETA: 0s - loss: 0.0045 - accuracy: 1.00 - 0s 11ms/step - loss: 0.0044 - accuracy: 1.0000\n",
      "Epoch 9/10\n",
      "19/19 [==============================] - 0s 13ms/step - loss: 0.0035 - accuracy: 1.0000\n",
      "Epoch 10/10\n",
      "19/19 [==============================] - 0s 11ms/step - loss: 0.0027 - accuracy: 1.0000\n"
     ]
    }
   ],
   "source": [
    "AUTOTUNE = tf.data.experimental.AUTOTUNE\n",
    "train_ds = train_ds.cache().shuffle(1000).prefetch(buffer_size=AUTOTUNE)\n",
    "\n",
    "model = create_model()\n",
    "\n",
    "model.fit(train_ds, epochs=10)\n",
    "\n",
    "model.save_weights('checkpoint/char_checkpoint')"
   ]
  },
  {
   "cell_type": "markdown",
   "metadata": {},
   "source": [
    "### Prediction from the model"
   ]
  },
  {
   "cell_type": "code",
   "execution_count": 18,
   "metadata": {},
   "outputs": [],
   "source": [
    "img1 = cv2.imread('img1.png', 0)\n",
    "img2 = cv2.imread('img2.png', 0)"
   ]
  },
  {
   "cell_type": "code",
   "execution_count": 19,
   "metadata": {},
   "outputs": [],
   "source": [
    "imgs = np.array([img1, img2])"
   ]
  },
  {
   "cell_type": "code",
   "execution_count": 20,
   "metadata": {},
   "outputs": [
    {
     "data": {
      "text/plain": [
       "array([[[0, 0, 0, ..., 0, 0, 0],\n",
       "        [0, 0, 0, ..., 0, 0, 0],\n",
       "        [0, 0, 0, ..., 0, 0, 0],\n",
       "        ...,\n",
       "        [0, 0, 0, ..., 0, 0, 0],\n",
       "        [0, 0, 0, ..., 0, 0, 0],\n",
       "        [0, 0, 0, ..., 0, 0, 0]],\n",
       "\n",
       "       [[0, 0, 0, ..., 0, 0, 0],\n",
       "        [0, 0, 0, ..., 0, 0, 0],\n",
       "        [0, 0, 0, ..., 0, 0, 0],\n",
       "        ...,\n",
       "        [0, 0, 0, ..., 0, 0, 0],\n",
       "        [0, 0, 0, ..., 0, 0, 0],\n",
       "        [0, 0, 0, ..., 0, 0, 0]]], dtype=uint8)"
      ]
     },
     "execution_count": 20,
     "metadata": {},
     "output_type": "execute_result"
    }
   ],
   "source": [
    "imgs"
   ]
  },
  {
   "cell_type": "code",
   "execution_count": 21,
   "metadata": {},
   "outputs": [],
   "source": [
    "model = create_model()\n",
    "model.load_weights('F:/Desktop/homework-analyser-python/model/checkpoint/char_checkpoint')\n",
    "class_name = np.load('class_name.npy')"
   ]
  },
  {
   "cell_type": "code",
   "execution_count": 22,
   "metadata": {},
   "outputs": [
    {
     "data": {
      "text/plain": [
       "['8', '14']"
      ]
     },
     "execution_count": 22,
     "metadata": {},
     "output_type": "execute_result"
    }
   ],
   "source": [
    "predicted = model.predict(imgs)\n",
    "\n",
    "results = []\n",
    "for predict in predicted:\n",
    "    index = np.argmax(predict)\n",
    "    result = class_name[index]\n",
    "    results.append(result)\n",
    "\n",
    "results"
   ]
  }
 ],
 "metadata": {
  "interpreter": {
   "hash": "013f42597854d3f665394bf71d86e3c8bf1bdbe744a45445f03d173a5b7b906a"
  },
  "kernelspec": {
   "display_name": "Python 3.9.4 64-bit",
   "language": "python",
   "name": "python3"
  },
  "language_info": {
   "codemirror_mode": {
    "name": "ipython",
    "version": 3
   },
   "file_extension": ".py",
   "mimetype": "text/x-python",
   "name": "python",
   "nbconvert_exporter": "python",
   "pygments_lexer": "ipython3",
   "version": "3.9.4"
  },
  "orig_nbformat": 4
 },
 "nbformat": 4,
 "nbformat_minor": 2
}
